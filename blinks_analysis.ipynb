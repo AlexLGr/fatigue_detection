{
 "metadata": {
  "language_info": {
   "codemirror_mode": {
    "name": "ipython",
    "version": 3
   },
   "file_extension": ".py",
   "mimetype": "text/x-python",
   "name": "python",
   "nbconvert_exporter": "python",
   "pygments_lexer": "ipython3",
   "version": "3.8.5"
  },
  "orig_nbformat": 4,
  "kernelspec": {
   "name": "python3",
   "display_name": "Python 3.8.5 64-bit"
  },
  "interpreter": {
   "hash": "31f2aee4e71d21fbe5cf8b01ff0e069b9275f58929596ceb00d14d90e3e16cd6"
  }
 },
 "nbformat": 4,
 "nbformat_minor": 2,
 "cells": [
  {
   "cell_type": "code",
   "execution_count": 53,
   "metadata": {},
   "outputs": [],
   "source": [
    "import pandas as pd\n",
    "\n",
    "df = pd.read_csv('video_data.csv')"
   ]
  },
  {
   "cell_type": "code",
   "execution_count": 54,
   "metadata": {},
   "outputs": [
    {
     "output_type": "execute_result",
     "data": {
      "text/plain": [
       "                                            Path  \\\n",
       "0   /home/alexandrg/Desktop/Fold1_part1/06/5.mp4   \n",
       "1  /home/alexandrg/Desktop/Fold1_part1/06/10.mp4   \n",
       "2   /home/alexandrg/Desktop/Fold1_part1/06/0.mp4   \n",
       "3   /home/alexandrg/Desktop/Fold1_part1/04/5.mp4   \n",
       "4  /home/alexandrg/Desktop/Fold1_part1/04/10.mp4   \n",
       "\n",
       "                                              Blinks  \n",
       "0  [15, 2, 5, 4, 2, 2, 5, 2, 2, 2, 2, 4, 3, 2, 3,...  \n",
       "1  [6, 4, 4, 13, 2, 6, 7, 8, 4, 5, 2, 2, 2, 4, 5,...  \n",
       "2  [4, 4, 6, 2, 3, 6, 5, 2, 4, 4, 2, 12, 7, 13, 1...  \n",
       "3  [2, 25, 4, 4, 4, 5, 3, 3, 2, 2, 4, 3, 2, 2, 2,...  \n",
       "4  [8, 6, 7, 2, 8, 5, 9, 10, 8, 9, 2, 3, 2, 2, 11...  "
      ],
      "text/html": "<div>\n<style scoped>\n    .dataframe tbody tr th:only-of-type {\n        vertical-align: middle;\n    }\n\n    .dataframe tbody tr th {\n        vertical-align: top;\n    }\n\n    .dataframe thead th {\n        text-align: right;\n    }\n</style>\n<table border=\"1\" class=\"dataframe\">\n  <thead>\n    <tr style=\"text-align: right;\">\n      <th></th>\n      <th>Path</th>\n      <th>Blinks</th>\n    </tr>\n  </thead>\n  <tbody>\n    <tr>\n      <th>0</th>\n      <td>/home/alexandrg/Desktop/Fold1_part1/06/5.mp4</td>\n      <td>[15, 2, 5, 4, 2, 2, 5, 2, 2, 2, 2, 4, 3, 2, 3,...</td>\n    </tr>\n    <tr>\n      <th>1</th>\n      <td>/home/alexandrg/Desktop/Fold1_part1/06/10.mp4</td>\n      <td>[6, 4, 4, 13, 2, 6, 7, 8, 4, 5, 2, 2, 2, 4, 5,...</td>\n    </tr>\n    <tr>\n      <th>2</th>\n      <td>/home/alexandrg/Desktop/Fold1_part1/06/0.mp4</td>\n      <td>[4, 4, 6, 2, 3, 6, 5, 2, 4, 4, 2, 12, 7, 13, 1...</td>\n    </tr>\n    <tr>\n      <th>3</th>\n      <td>/home/alexandrg/Desktop/Fold1_part1/04/5.mp4</td>\n      <td>[2, 25, 4, 4, 4, 5, 3, 3, 2, 2, 4, 3, 2, 2, 2,...</td>\n    </tr>\n    <tr>\n      <th>4</th>\n      <td>/home/alexandrg/Desktop/Fold1_part1/04/10.mp4</td>\n      <td>[8, 6, 7, 2, 8, 5, 9, 10, 8, 9, 2, 3, 2, 2, 11...</td>\n    </tr>\n  </tbody>\n</table>\n</div>"
     },
     "metadata": {},
     "execution_count": 54
    }
   ],
   "source": [
    "df.head()"
   ]
  },
  {
   "cell_type": "code",
   "execution_count": 55,
   "metadata": {},
   "outputs": [],
   "source": [
    "import ast\n",
    "\n",
    "no_fatigue = []\n",
    "slight_fatigue = []\n",
    "severe_fatigue = []\n",
    "\n",
    "for index, row in df.iterrows():\n",
    "    path = row['Path']\n",
    "    label = path.split('/')[-1]\n",
    "    if '10.' in label or '10_' in label:\n",
    "        severe_fatigue.append(ast.literal_eval(row[' Blinks']))\n",
    "    elif '5.' in label:\n",
    "        slight_fatigue.append(ast.literal_eval(row[' Blinks']))\n",
    "    else:\n",
    "        no_fatigue.append(ast.literal_eval(row[' Blinks']))"
   ]
  },
  {
   "cell_type": "code",
   "execution_count": 58,
   "metadata": {},
   "outputs": [
    {
     "output_type": "stream",
     "name": "stdout",
     "text": [
      "No fatigue average blinks per minute: 58\nSlight fatigue average blinks per minute: 47\nSevere fatigue average blinks per minute: 40\n"
     ]
    }
   ],
   "source": [
    "import numpy as np\n",
    "\n",
    "no_fatigue_avg_blinks = np.mean([len(x) for x in no_fatigue])\n",
    "slight_fatigue_avg_blinks = np.mean([len(x) for x in slight_fatigue])\n",
    "severe_fatigue_avg_blinks = np.mean([len(x) for x in severe_fatigue])\n",
    "print('No fatigue average blinks per minute:', round(no_fatigue_avg_blinks/10))\n",
    "print('Slight fatigue average blinks per minute:', round(slight_fatigue_avg_blinks/10))\n",
    "print('Severe fatigue average blinks per minute:', round(severe_fatigue_avg_blinks/10))"
   ]
  },
  {
   "cell_type": "code",
   "execution_count": 61,
   "metadata": {},
   "outputs": [
    {
     "output_type": "stream",
     "name": "stdout",
     "text": [
      "No fatigue average blink duration (s): 0.161\nSlight fatigue average blink duration (s): 0.204\nSevere fatigue average blink duration (s): 0.573\n"
     ]
    }
   ],
   "source": [
    "no_f_blink_duration = np.mean([np.mean(x) for x in no_fatigue])\n",
    "slight_f_blink_duration = np.mean([np.mean(x) for x in slight_fatigue])\n",
    "severe_f_blink_duration = np.mean([np.mean(x) for x in severe_fatigue])\n",
    "\n",
    "print('No fatigue average blink duration (s):', round(no_f_blink_duration/30, 3))\n",
    "print('Slight fatigue average blink duration (s):', round(slight_f_blink_duration/30, 3))\n",
    "print('Severe fatigue average blink duration (s):', round(severe_f_blink_duration/30, 3))"
   ]
  }
 ]
}